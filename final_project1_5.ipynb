{
  "nbformat": 4,
  "nbformat_minor": 0,
  "metadata": {
    "colab": {
      "provenance": [],
      "machine_shape": "hm",
      "gpuType": "A100",
      "authorship_tag": "ABX9TyOcUNZfzBuIC+JXa/OAWORr",
      "include_colab_link": true
    },
    "kernelspec": {
      "name": "python3",
      "display_name": "Python 3"
    },
    "language_info": {
      "name": "python"
    },
    "accelerator": "GPU",
    "widgets": {
      "application/vnd.jupyter.widget-state+json": {
        "b25ea1915ea646308e6ffa834f5247c7": {
          "model_module": "@jupyter-widgets/controls",
          "model_name": "HBoxModel",
          "model_module_version": "1.5.0",
          "state": {
            "_dom_classes": [],
            "_model_module": "@jupyter-widgets/controls",
            "_model_module_version": "1.5.0",
            "_model_name": "HBoxModel",
            "_view_count": null,
            "_view_module": "@jupyter-widgets/controls",
            "_view_module_version": "1.5.0",
            "_view_name": "HBoxView",
            "box_style": "",
            "children": [
              "IPY_MODEL_b05c264612ec4890b21b42b0ee38fad0",
              "IPY_MODEL_381d929f0f7e40d3b6a00a3bc768e5b1",
              "IPY_MODEL_761920bb56674ab9a12a82d130d5f477"
            ],
            "layout": "IPY_MODEL_5e631e57f6414435aad3cd6b8d817957"
          }
        },
        "b05c264612ec4890b21b42b0ee38fad0": {
          "model_module": "@jupyter-widgets/controls",
          "model_name": "HTMLModel",
          "model_module_version": "1.5.0",
          "state": {
            "_dom_classes": [],
            "_model_module": "@jupyter-widgets/controls",
            "_model_module_version": "1.5.0",
            "_model_name": "HTMLModel",
            "_view_count": null,
            "_view_module": "@jupyter-widgets/controls",
            "_view_module_version": "1.5.0",
            "_view_name": "HTMLView",
            "description": "",
            "description_tooltip": null,
            "layout": "IPY_MODEL_2e9441b238d944f0ae774c593cb04373",
            "placeholder": "​",
            "style": "IPY_MODEL_96948ea05f514923ae9b7f7536919f40",
            "value": "Loading checkpoint shards: 100%"
          }
        },
        "381d929f0f7e40d3b6a00a3bc768e5b1": {
          "model_module": "@jupyter-widgets/controls",
          "model_name": "FloatProgressModel",
          "model_module_version": "1.5.0",
          "state": {
            "_dom_classes": [],
            "_model_module": "@jupyter-widgets/controls",
            "_model_module_version": "1.5.0",
            "_model_name": "FloatProgressModel",
            "_view_count": null,
            "_view_module": "@jupyter-widgets/controls",
            "_view_module_version": "1.5.0",
            "_view_name": "ProgressView",
            "bar_style": "success",
            "description": "",
            "description_tooltip": null,
            "layout": "IPY_MODEL_c0fd9f5a56f04441af82dfb491a3430b",
            "max": 2,
            "min": 0,
            "orientation": "horizontal",
            "style": "IPY_MODEL_61708e254bdd4b6ba77b978f5597329f",
            "value": 2
          }
        },
        "761920bb56674ab9a12a82d130d5f477": {
          "model_module": "@jupyter-widgets/controls",
          "model_name": "HTMLModel",
          "model_module_version": "1.5.0",
          "state": {
            "_dom_classes": [],
            "_model_module": "@jupyter-widgets/controls",
            "_model_module_version": "1.5.0",
            "_model_name": "HTMLModel",
            "_view_count": null,
            "_view_module": "@jupyter-widgets/controls",
            "_view_module_version": "1.5.0",
            "_view_name": "HTMLView",
            "description": "",
            "description_tooltip": null,
            "layout": "IPY_MODEL_6216bf61c4bd40a8a7acb471b4c69a82",
            "placeholder": "​",
            "style": "IPY_MODEL_9eb3cc2325034c599fc336a61d69e1e4",
            "value": " 2/2 [00:17&lt;00:00,  8.10s/it]"
          }
        },
        "5e631e57f6414435aad3cd6b8d817957": {
          "model_module": "@jupyter-widgets/base",
          "model_name": "LayoutModel",
          "model_module_version": "1.2.0",
          "state": {
            "_model_module": "@jupyter-widgets/base",
            "_model_module_version": "1.2.0",
            "_model_name": "LayoutModel",
            "_view_count": null,
            "_view_module": "@jupyter-widgets/base",
            "_view_module_version": "1.2.0",
            "_view_name": "LayoutView",
            "align_content": null,
            "align_items": null,
            "align_self": null,
            "border": null,
            "bottom": null,
            "display": null,
            "flex": null,
            "flex_flow": null,
            "grid_area": null,
            "grid_auto_columns": null,
            "grid_auto_flow": null,
            "grid_auto_rows": null,
            "grid_column": null,
            "grid_gap": null,
            "grid_row": null,
            "grid_template_areas": null,
            "grid_template_columns": null,
            "grid_template_rows": null,
            "height": null,
            "justify_content": null,
            "justify_items": null,
            "left": null,
            "margin": null,
            "max_height": null,
            "max_width": null,
            "min_height": null,
            "min_width": null,
            "object_fit": null,
            "object_position": null,
            "order": null,
            "overflow": null,
            "overflow_x": null,
            "overflow_y": null,
            "padding": null,
            "right": null,
            "top": null,
            "visibility": null,
            "width": null
          }
        },
        "2e9441b238d944f0ae774c593cb04373": {
          "model_module": "@jupyter-widgets/base",
          "model_name": "LayoutModel",
          "model_module_version": "1.2.0",
          "state": {
            "_model_module": "@jupyter-widgets/base",
            "_model_module_version": "1.2.0",
            "_model_name": "LayoutModel",
            "_view_count": null,
            "_view_module": "@jupyter-widgets/base",
            "_view_module_version": "1.2.0",
            "_view_name": "LayoutView",
            "align_content": null,
            "align_items": null,
            "align_self": null,
            "border": null,
            "bottom": null,
            "display": null,
            "flex": null,
            "flex_flow": null,
            "grid_area": null,
            "grid_auto_columns": null,
            "grid_auto_flow": null,
            "grid_auto_rows": null,
            "grid_column": null,
            "grid_gap": null,
            "grid_row": null,
            "grid_template_areas": null,
            "grid_template_columns": null,
            "grid_template_rows": null,
            "height": null,
            "justify_content": null,
            "justify_items": null,
            "left": null,
            "margin": null,
            "max_height": null,
            "max_width": null,
            "min_height": null,
            "min_width": null,
            "object_fit": null,
            "object_position": null,
            "order": null,
            "overflow": null,
            "overflow_x": null,
            "overflow_y": null,
            "padding": null,
            "right": null,
            "top": null,
            "visibility": null,
            "width": null
          }
        },
        "96948ea05f514923ae9b7f7536919f40": {
          "model_module": "@jupyter-widgets/controls",
          "model_name": "DescriptionStyleModel",
          "model_module_version": "1.5.0",
          "state": {
            "_model_module": "@jupyter-widgets/controls",
            "_model_module_version": "1.5.0",
            "_model_name": "DescriptionStyleModel",
            "_view_count": null,
            "_view_module": "@jupyter-widgets/base",
            "_view_module_version": "1.2.0",
            "_view_name": "StyleView",
            "description_width": ""
          }
        },
        "c0fd9f5a56f04441af82dfb491a3430b": {
          "model_module": "@jupyter-widgets/base",
          "model_name": "LayoutModel",
          "model_module_version": "1.2.0",
          "state": {
            "_model_module": "@jupyter-widgets/base",
            "_model_module_version": "1.2.0",
            "_model_name": "LayoutModel",
            "_view_count": null,
            "_view_module": "@jupyter-widgets/base",
            "_view_module_version": "1.2.0",
            "_view_name": "LayoutView",
            "align_content": null,
            "align_items": null,
            "align_self": null,
            "border": null,
            "bottom": null,
            "display": null,
            "flex": null,
            "flex_flow": null,
            "grid_area": null,
            "grid_auto_columns": null,
            "grid_auto_flow": null,
            "grid_auto_rows": null,
            "grid_column": null,
            "grid_gap": null,
            "grid_row": null,
            "grid_template_areas": null,
            "grid_template_columns": null,
            "grid_template_rows": null,
            "height": null,
            "justify_content": null,
            "justify_items": null,
            "left": null,
            "margin": null,
            "max_height": null,
            "max_width": null,
            "min_height": null,
            "min_width": null,
            "object_fit": null,
            "object_position": null,
            "order": null,
            "overflow": null,
            "overflow_x": null,
            "overflow_y": null,
            "padding": null,
            "right": null,
            "top": null,
            "visibility": null,
            "width": null
          }
        },
        "61708e254bdd4b6ba77b978f5597329f": {
          "model_module": "@jupyter-widgets/controls",
          "model_name": "ProgressStyleModel",
          "model_module_version": "1.5.0",
          "state": {
            "_model_module": "@jupyter-widgets/controls",
            "_model_module_version": "1.5.0",
            "_model_name": "ProgressStyleModel",
            "_view_count": null,
            "_view_module": "@jupyter-widgets/base",
            "_view_module_version": "1.2.0",
            "_view_name": "StyleView",
            "bar_color": null,
            "description_width": ""
          }
        },
        "6216bf61c4bd40a8a7acb471b4c69a82": {
          "model_module": "@jupyter-widgets/base",
          "model_name": "LayoutModel",
          "model_module_version": "1.2.0",
          "state": {
            "_model_module": "@jupyter-widgets/base",
            "_model_module_version": "1.2.0",
            "_model_name": "LayoutModel",
            "_view_count": null,
            "_view_module": "@jupyter-widgets/base",
            "_view_module_version": "1.2.0",
            "_view_name": "LayoutView",
            "align_content": null,
            "align_items": null,
            "align_self": null,
            "border": null,
            "bottom": null,
            "display": null,
            "flex": null,
            "flex_flow": null,
            "grid_area": null,
            "grid_auto_columns": null,
            "grid_auto_flow": null,
            "grid_auto_rows": null,
            "grid_column": null,
            "grid_gap": null,
            "grid_row": null,
            "grid_template_areas": null,
            "grid_template_columns": null,
            "grid_template_rows": null,
            "height": null,
            "justify_content": null,
            "justify_items": null,
            "left": null,
            "margin": null,
            "max_height": null,
            "max_width": null,
            "min_height": null,
            "min_width": null,
            "object_fit": null,
            "object_position": null,
            "order": null,
            "overflow": null,
            "overflow_x": null,
            "overflow_y": null,
            "padding": null,
            "right": null,
            "top": null,
            "visibility": null,
            "width": null
          }
        },
        "9eb3cc2325034c599fc336a61d69e1e4": {
          "model_module": "@jupyter-widgets/controls",
          "model_name": "DescriptionStyleModel",
          "model_module_version": "1.5.0",
          "state": {
            "_model_module": "@jupyter-widgets/controls",
            "_model_module_version": "1.5.0",
            "_model_name": "DescriptionStyleModel",
            "_view_count": null,
            "_view_module": "@jupyter-widgets/base",
            "_view_module_version": "1.2.0",
            "_view_name": "StyleView",
            "description_width": ""
          }
        }
      }
    }
  },
  "cells": [
    {
      "cell_type": "markdown",
      "metadata": {
        "id": "view-in-github",
        "colab_type": "text"
      },
      "source": [
        "<a href=\"https://colab.research.google.com/github/davidisinta/AI/blob/main/final_project1_5.ipynb\" target=\"_parent\"><img src=\"https://colab.research.google.com/assets/colab-badge.svg\" alt=\"Open In Colab\"/></a>"
      ]
    },
    {
      "cell_type": "code",
      "source": [
        "!huggingface-cli login\n"
      ],
      "metadata": {
        "colab": {
          "base_uri": "https://localhost:8080/"
        },
        "id": "1iECR1aEIwcv",
        "outputId": "b8abec9c-e572-404e-9686-b639a12a69fd"
      },
      "execution_count": 31,
      "outputs": [
        {
          "output_type": "stream",
          "name": "stdout",
          "text": [
            "\n",
            "    _|    _|  _|    _|    _|_|_|    _|_|_|  _|_|_|  _|      _|    _|_|_|      _|_|_|_|    _|_|      _|_|_|  _|_|_|_|\n",
            "    _|    _|  _|    _|  _|        _|          _|    _|_|    _|  _|            _|        _|    _|  _|        _|\n",
            "    _|_|_|_|  _|    _|  _|  _|_|  _|  _|_|    _|    _|  _|  _|  _|  _|_|      _|_|_|    _|_|_|_|  _|        _|_|_|\n",
            "    _|    _|  _|    _|  _|    _|  _|    _|    _|    _|    _|_|  _|    _|      _|        _|    _|  _|        _|\n",
            "    _|    _|    _|_|      _|_|_|    _|_|_|  _|_|_|  _|      _|    _|_|_|      _|        _|    _|    _|_|_|  _|_|_|_|\n",
            "\n",
            "    A token is already saved on your machine. Run `huggingface-cli whoami` to get more information or `huggingface-cli logout` if you want to log out.\n",
            "    Setting a new token will erase the existing one.\n",
            "    To log in, `huggingface_hub` requires a token generated from https://huggingface.co/settings/tokens .\n",
            "Enter your token (input will not be visible): \n",
            "Add token as git credential? (Y/n) n\n",
            "Token is valid (permission: fineGrained).\n",
            "The token `law_llms5` has been saved to /root/.cache/huggingface/stored_tokens\n",
            "Your token has been saved to /root/.cache/huggingface/token\n",
            "Login successful.\n",
            "The current active token is: `law_llms5`\n"
          ]
        }
      ]
    },
    {
      "cell_type": "markdown",
      "source": [
        "Part 1: Dataset"
      ],
      "metadata": {
        "id": "-JKDpOPvXqFL"
      }
    },
    {
      "cell_type": "code",
      "execution_count": 32,
      "metadata": {
        "id": "nI9lm74HHG3Y"
      },
      "outputs": [],
      "source": [
        "dataset = {\n",
        "    \"data\": [\n",
        "        {\n",
        "            \"prompt\": \"Lucas is 12 and lives with his mother the entire year. He has no income and his mother pays for 100 % of his support.\",\n",
        "            \"response\": \"Dependent – Lucas meets the qualifying‑child tests: relationship (son), age (<19), residency (shares principal abode >50 % of the year), and support (provides <50 % of his own). No joint return filed.\"\n",
        "        },\n",
        "        {\n",
        "            \"prompt\": \"Ava, 18, is a full‑time high‑school student. She earned $3 000 from a summer job, lived with her father all year, and her father covered all remaining support.\",\n",
        "            \"response\": \"Dependent – As a student under 24, Ava passes the age test. She meets relationship and residency tests, provides <50 % of her own support, and files no joint return. Therefore she is her father’s qualifying child.\"\n",
        "        },\n",
        "        {\n",
        "            \"prompt\": \"Noah, age 23, is permanently and totally disabled after an accident. He lives with his parents and receives no disability benefits. His parents pay all expenses.\",\n",
        "            \"response\": \"Dependent – Disability exempts Noah from the age ceiling. He satisfies relationship, residency, and support tests and files no joint return, so he remains a qualifying child.\"\n",
        "        },\n",
        "        {\n",
        "            \"prompt\": \"Riley, 17, earns $50 000 from an online clothing shop and pays her own rent and groceries. She still lives at her mother’s house.\",\n",
        "            \"response\": \"Not dependent – Although Riley meets relationship, age, and residency tests, she provides >50 % of her own support, failing the support test for a qualifying child.\"\n",
        "        },\n",
        "        {\n",
        "            \"prompt\": \"Caleb, 19, is a part‑time student, earns $22 000, and pays most of his expenses. He lives off‑campus but visits his parents on weekends.\",\n",
        "            \"response\": \"Not dependent – Over age 18 and not a full‑time student; also provides >50 % of his own support. He is neither a qualifying child nor a qualifying relative.\"\n",
        "        },\n",
        "        {\n",
        "            \"prompt\": \"Grandma Joan, 79, lives in Sophia’s house. Joan’s only income is $900 of Social‑Security‑equivalent benefits. Sophia covers all housing, food, and medical bills.\",\n",
        "            \"response\": \"Dependent – Joan meets the relationship rule (direct ancestor), has gross income below the exemption amount(2000), receives >50 % support from Sophia, and is not a qualifying child. She is Sophia’s qualifying relative.\"\n",
        "        },\n",
        "        {\n",
        "            \"prompt\": \"Uncle Mateo, 65, resides in Olivia’s home for the whole year. His pension is $1 500, well under the exemption amount of $2000, and Olivia pays 70 % of his living costs.\",\n",
        "            \"response\": \"Dependent – Mateo satisfies the qualifying‑relative rules: specified relative (uncle), gross income below threshold, Olivia provides >50 % support, and he is not a qualifying child.\"\n",
        "        },\n",
        "        {\n",
        "            \"prompt\": \"Cara’s cousin, Isaiah (34), lived with her the full tax year. Isaiah had no income because he was laid off, and Cara paid all household and food expenses.\",\n",
        "            \"response\": \"Not Dependent –  Isiah does not bear such a relation with Cara, (A) a child of the taxpayer or a descendant of such a child, or (B)a brother, sister, stepbrother, or stepsister of the taxpayer or a descendant of any such relative. Therefore not a qualifying relative.\"\n",
        "        },\n",
        "        {\n",
        "            \"prompt\": \"Aunt Linda (61) stayed with Ethan eight months. She received $25 000 in taxable retirement pay and paid her own bills.\",\n",
        "            \"response\": \"Not dependent – Linda’s gross income exceeds the exemption amount and Ethan did not provide >50 % of her support. She fails the gross‑income and support tests. She also has no relation as defined as Isiah does not bear such a relation with Cara, (A) a child of the taxpayer or a descendant of such a child, or (B)a brother, sister, stepbrother, or stepsister of the taxpayer or a descendant of any such relative. Therefore not a qualifying relative\"\n",
        "        },\n",
        "        {\n",
        "            \"prompt\": \"Carmen’s brother Luis (38) lived with her but collected $20 000 in workers‑comp settlements, exceeding the exemption limit. Carmen paid roughly 30 % of his expenses.\",\n",
        "            \"response\": \"Not dependent – Luis’s income surpasses the gross‑income threshold and Carmen provided <50 % support. He fails two qualifying‑relative tests.\"\n",
        "        },\n",
        "        {\n",
        "            \"prompt\": \"Nick (31) lived with four siblings all year. Each sibling contributed 25 % toward his support and Nick earned no income. No sibling filed Form 2120 to designate a single claimant.\",\n",
        "            \"response\": \"Not dependent – Because no one contributed >50 % and no multiple‑support declaration was executed, none of the siblings may claim Nick as a qualifying relative.\"\n",
        "        },\n",
        "        {\n",
        "            \"prompt\": \"Leah, 18, marries and files a joint tax return with her spouse. She still lives with her parents who provide >50 % of her support.\",\n",
        "            \"response\": \"Not dependent – Leah files a joint return with her spouse and is consequently barred by the joint‑return test unless the return is filed solely for withholding refund, which is not indicated.\"\n",
        "        },\n",
        "        {\n",
        "            \"prompt\": \"Tim (17) marries in December but files no joint return; his parents still support him fully.\",\n",
        "            \"response\": \"Dependent – Tim meets the qualifying‑child rules and does not file a joint return, so he remains his parents’ dependent.\"\n",
        "        },\n",
        "        {\n",
        "            \"prompt\": \"Amira, 20, is a full‑time college student living 10 months on campus and 2 months at her parents’ home. She earns $7 000 in internships, which covers 45 % of her total expenses.\",\n",
        "            \"response\": \"Dependent – Amira meets age (<24 and student), relationship, and residency (parents’ home is still principal abode) tests; she supplies <50 % support. Explanation clarifies support calculation and residence count.\"\n",
        "        },\n",
        "        {\n",
        "            \"prompt\": \"Ella, 17, spent 3 months in the hospital but otherwise lived with her father all year. Father pays >50 % support and Ella has no income.\",\n",
        "            \"response\": \"Dependent – Hospital stay is a temporary absence; Ella meets all qualifying‑child tests. She remains her father’s dependent.\"\n",
        "        },\n",
        "        {\n",
        "            \"prompt\": \"Carlos, 15, lives with state‑approved foster parents who pay all living costs and have legal placement papers.\",\n",
        "            \"response\": \"Dependent – A foster child placed by an authorized agency satisfies the relationship test. Because they pay his living costs, Carlos is their qualifying child.\"\n",
        "        },\n",
        "        {\n",
        "            \"prompt\": \"Liam, 23, is a full‑time graduate student and lives with his mother. He earns $4 000 as a teaching assistant; mother pays the balance.\",\n",
        "            \"response\": \"Dependent – As a full‑time student under 24, Liam meets the age test. He receives <50 % support from himself and files no joint return, so he qualifies as a child dependent.\"\n",
        "        },\n",
        "        {\n",
        "            \"prompt\": \"Farah supports her friend Jade (30) who moves in for the year. Jade earns $1 200 from part‑time gigs, and Farah pays rent, food, and medical bills.\",\n",
        "            \"response\": \"Not Dependent – not related.\"\n",
        "        },\n",
        "        {\n",
        "            \"prompt\": \"Aaron lets his girlfriend Mia stay nine months, paying 60 % of her support. Mia earns $2 500 and then moves out for the final three months.\",\n",
        "            \"response\": \"Not dependent – not a qualifying child or relative.\"\n",
        "        },\n",
        "        {\n",
        "            \"prompt\": \"Victor (40) is unemployed but makes $2001 in short‑term capital gains, exactly $1 over the exemption amount. His sister Natalie provides all his support.\",\n",
        "            \"response\": \"Not dependent – Victor's gross income exceeds the §152(d)(1)(B) exemption amount by any amount, even $1, disqualifying him as a qualifying relative.\"\n",
        "        },\n",
        "        {\n",
        "            \"prompt\": \"Twins Ava and Mia (age 10) spend the entire year with their mother while their father is deployed. Mother’s AGI is lower than father’s. Both parents try to claim the girls.\",\n",
        "            \"response\": \"Dependent – Residency tiebreaker gives priority to mother (children spent >½ nights with her). Father cannot claim despite higher AGI since he provided 0 nights.\"\n",
        "        },\n",
        "        {\n",
        "            \"prompt\": \"Daniel, 25, is still in college. He lives with his parents all year but earns $14 000 and covers most personal expenses.\",\n",
        "            \"response\": \"Not dependent – Over age 24, Daniel cannot be a qualifying child. Gross income exceeds the exemption amount, so he also fails qualifying‑relative rules.\"\n",
        "        },\n",
        "        {\n",
        "            \"prompt\": \"Child Ella spends exactly 200 nights with Dad and 165 nights with Mom after their separation. Both provide >50 % of her combined support with Dad higher AGI.\",\n",
        "            \"response\": \"Dependent – Under §152(c)(4)(B) tiebreaker, the parent with whom the child resided longer claims the dependency. Dad claims Ella because she spent more nights with him.\"\n",
        "        },\n",
        "        {\n",
        "            \"prompt\": \"Grandfather Sam (82) has $1 900 of taxable interest (below exemption amount). Granddaughter Lily pays 95 % of his support.\",\n",
        "            \"response\": \"Dependent – Sam meets gross‑income and support tests and is a specified relative (grandparent), so Lily may claim him.\"\n",
        "        },\n",
        "        {\n",
        "            \"prompt\": \"Niece Chloe (15) moved in with Aunt Grace on July 1 and stayed the rest of the year. Grace paid 80 % of Chloe’s support; Chloe had no income.\",\n",
        "            \"response\": \"Not dependent – A niece is a qualifying child only if she lived with the taxpayer more than half the tax year. Chloe resided exactly half (184/366 days in leap year scenario) or less, so the residency test fails.\"\n",
        "        },\n",
        "        {\n",
        "            \"prompt\": \"Mark (27) suffered a traumatic brain injury and is permanently disabled. He lives with his parents and earns no income.\",\n",
        "            \"response\": \"Dependent – Permanent disability waives the age limit for a qualifying child, so Mark is still his parents’ dependent (relationship, residency, support tests all met).\"\n",
        "        },\n",
        "        {\n",
        "            \"prompt\": \"Sasha, 20, receives $10 000 taxable prize money (not a scholarship). She uses it for tuition and living costs and her parents cover the other $7 000.\",\n",
        "            \"response\": \"Not dependent – Taxable prize money counts toward Sasha’s own support, bringing her self‑support above 50 %. She fails the support test and is not a dependent.\"\n",
        "        },\n",
        "        {\n",
        "            \"prompt\": \"Kevin (22, full‑time student) contributes exactly $8 200 to his expenses; his parents also spend $8 200 on him.\",\n",
        "            \"response\": \"Not dependent – Support test requires the child to provide less than half. A perfect 50/50 split disqualifies him as a dependent.\"\n",
        "        },\n",
        "    ]\n",
        "}\n"
      ]
    },
    {
      "cell_type": "markdown",
      "source": [
        "Part 2: Fine Tune Model on LORA and 4 bit Quantization"
      ],
      "metadata": {
        "id": "e6kfcub2XkyZ"
      }
    },
    {
      "cell_type": "code",
      "source": [
        "import random, textwrap, warnings, os, logging\n",
        "from typing import List, Dict\n",
        "\n",
        "import torch, evaluate\n",
        "from torch.utils.data import Dataset\n",
        "from sklearn.metrics import accuracy_score, confusion_matrix, classification_report\n",
        "from transformers import (\n",
        "    AutoTokenizer, AutoModelForCausalLM,\n",
        "    BitsAndBytesConfig, TrainingArguments, Trainer,\n",
        "    DataCollatorForLanguageModeling, logging as hf_logging\n",
        ")\n",
        "from peft import get_peft_model, LoraConfig\n",
        "\n",
        "\n",
        "hf_logging.set_verbosity_error()\n",
        "warnings.filterwarnings(\"ignore\", category=UserWarning, module=\"transformers\")\n",
        "os.environ[\"TOKENIZERS_PARALLELISM\"] = \"false\"\n",
        "logging.basicConfig(level=logging.INFO, format=\"%(message)s\")\n",
        "log = logging.getLogger()\n",
        "\n",
        "# config\n",
        "HF_MODEL = \"mistralai/Mistral-7B-v0.1\"\n",
        "MAX_LEN  = 512\n",
        "BATCH    = 2\n",
        "LR       = 2e-4\n",
        "EPOCHS   = 5\n",
        "RANK     = 8\n",
        "ALPHA    = 16\n",
        "DROPOUT  = 0.05\n",
        "\n",
        "# tokenizer\n",
        "tok = AutoTokenizer.from_pretrained(HF_MODEL, trust_remote_code=True)\n",
        "tok.pad_token = tok.eos_token\n",
        "tok.padding_side = \"right\"\n"
      ],
      "metadata": {
        "colab": {
          "base_uri": "https://localhost:8080/"
        },
        "id": "zOu4oaOoHaas",
        "outputId": "f79f8258-318b-470f-c3a8-0e723aed81bb"
      },
      "execution_count": 33,
      "outputs": [
        {
          "output_type": "stream",
          "name": "stderr",
          "text": [
            "/usr/local/lib/python3.11/dist-packages/huggingface_hub/utils/_auth.py:94: UserWarning: \n",
            "The secret `HF_TOKEN` does not exist in your Colab secrets.\n",
            "To authenticate with the Hugging Face Hub, create a token in your settings tab (https://huggingface.co/settings/tokens), set it as secret in your Google Colab and restart your session.\n",
            "You will be able to reuse this secret in all of your notebooks.\n",
            "Please note that authentication is recommended but still optional to access public models or datasets.\n",
            "  warnings.warn(\n"
          ]
        }
      ]
    },
    {
      "cell_type": "code",
      "source": [
        "print(\"Total examples loaded:\", len(dataset[\"data\"]))\n",
        "for i, ex in enumerate(dataset[\"data\"][:3], 1):\n",
        "    print(f\"{i}.\", ex[\"prompt\"][:60], \"→\", ex[\"response\"].split()[0])\n"
      ],
      "metadata": {
        "colab": {
          "base_uri": "https://localhost:8080/"
        },
        "id": "GSAyb1nCJgWH",
        "outputId": "4b98f324-8d64-47c5-f87e-9184b471d38d"
      },
      "execution_count": 34,
      "outputs": [
        {
          "output_type": "stream",
          "name": "stdout",
          "text": [
            "Total examples loaded: 28\n",
            "1. Lucas is 12 and lives with his mother the entire year. He ha → Dependent\n",
            "2. Ava, 18, is a full‑time high‑school student. She earned $3 0 → Dependent\n",
            "3. Noah, age 23, is permanently and totally disabled after an a → Dependent\n"
          ]
        }
      ]
    },
    {
      "cell_type": "code",
      "source": [
        "bnb_cfg = BitsAndBytesConfig(\n",
        "    load_in_4bit=True,\n",
        "    bnb_4bit_quant_type=\"nf4\",\n",
        "    bnb_4bit_compute_dtype=torch.float16,\n",
        "    bnb_4bit_use_double_quant=True,\n",
        ")\n",
        "\n",
        "base = AutoModelForCausalLM.from_pretrained(\n",
        "    HF_MODEL,\n",
        "    device_map=\"auto\",\n",
        "    quantization_config=bnb_cfg,\n",
        "    trust_remote_code=True,\n",
        ")\n",
        "\n",
        "lora_cfg = LoraConfig(\n",
        "    r=RANK, lora_alpha=ALPHA, lora_dropout=DROPOUT,\n",
        "    bias=\"none\", task_type=\"CAUSAL_LM\"\n",
        ")\n",
        "model = get_peft_model(base, lora_cfg)\n",
        "model.print_trainable_parameters()\n"
      ],
      "metadata": {
        "colab": {
          "base_uri": "https://localhost:8080/",
          "height": 67,
          "referenced_widgets": [
            "b25ea1915ea646308e6ffa834f5247c7",
            "b05c264612ec4890b21b42b0ee38fad0",
            "381d929f0f7e40d3b6a00a3bc768e5b1",
            "761920bb56674ab9a12a82d130d5f477",
            "5e631e57f6414435aad3cd6b8d817957",
            "2e9441b238d944f0ae774c593cb04373",
            "96948ea05f514923ae9b7f7536919f40",
            "c0fd9f5a56f04441af82dfb491a3430b",
            "61708e254bdd4b6ba77b978f5597329f",
            "6216bf61c4bd40a8a7acb471b4c69a82",
            "9eb3cc2325034c599fc336a61d69e1e4"
          ]
        },
        "id": "zFI7KuEnHds2",
        "outputId": "3d1304f3-68d4-4033-e073-f800315b0446"
      },
      "execution_count": 35,
      "outputs": [
        {
          "output_type": "display_data",
          "data": {
            "text/plain": [
              "Loading checkpoint shards:   0%|          | 0/2 [00:00<?, ?it/s]"
            ],
            "application/vnd.jupyter.widget-view+json": {
              "version_major": 2,
              "version_minor": 0,
              "model_id": "b25ea1915ea646308e6ffa834f5247c7"
            }
          },
          "metadata": {}
        },
        {
          "output_type": "stream",
          "name": "stdout",
          "text": [
            "trainable params: 3,407,872 || all params: 7,245,139,968 || trainable%: 0.0470\n"
          ]
        }
      ]
    },
    {
      "cell_type": "code",
      "source": [
        "def build_prompt(scn: str) -> str:\n",
        "    return f\"Scenario: {scn}, given the scenario classify the person as a dependent ot not a deperndent giving reasons \\nAnswer:\"\n",
        "\n",
        "class DependentDS(Dataset):\n",
        "    def __init__(self, rows: List[Dict[str, str]]):\n",
        "        self.rows = rows\n",
        "    def __len__(self): return len(self.rows)\n",
        "    def __getitem__(self, idx):\n",
        "        r = self.rows[idx]\n",
        "        enc = tok(\n",
        "            build_prompt(r[\"prompt\"]),\n",
        "            text_target=r[\"response\"],\n",
        "            padding=\"max_length\",\n",
        "            truncation=True,\n",
        "            max_length=MAX_LEN,\n",
        "            return_tensors=\"pt\",\n",
        "        )\n",
        "        labels = enc[\"labels\"].squeeze()\n",
        "        labels[labels == tok.pad_token_id] = -100\n",
        "        enc[\"labels\"] = labels\n",
        "        return {k: v.squeeze() for k, v in enc.items()}\n",
        "\n",
        "rows = dataset[\"data\"].copy()\n",
        "random.shuffle(rows)\n",
        "split = int(0.9 * len(rows))\n",
        "train_ds, val_ds = DependentDS(rows[:split]), DependentDS(rows[split:])\n",
        "\n",
        "print(\"train rows:\", len(train_ds))\n",
        "print(\"val rows:\", len(val_ds))\n",
        "\n",
        "\n",
        "\n",
        "collator = DataCollatorForLanguageModeling(tok, mlm=False)\n",
        "\n",
        "args = TrainingArguments(\n",
        "    output_dir=\"/tmp/qlora_ckpt\",\n",
        "    per_device_train_batch_size=BATCH,\n",
        "    per_device_eval_batch_size=BATCH,\n",
        "    gradient_accumulation_steps=8,\n",
        "    num_train_epochs=EPOCHS,\n",
        "    learning_rate=LR,\n",
        "    fp16=True,\n",
        "    eval_strategy=\"epoch\",\n",
        "    save_strategy=\"no\",\n",
        "    disable_tqdm=True,\n",
        ")\n",
        "\n",
        "trainer = Trainer(\n",
        "    model=model,\n",
        "    args=args,\n",
        "    train_dataset=train_ds,\n",
        "    eval_dataset=val_ds,\n",
        "    data_collator=collator,\n",
        ")\n"
      ],
      "metadata": {
        "colab": {
          "base_uri": "https://localhost:8080/"
        },
        "id": "xWEnmyi2H0wH",
        "outputId": "be20173e-7e7a-445e-b84d-1b6a1180b149"
      },
      "execution_count": 36,
      "outputs": [
        {
          "output_type": "stream",
          "name": "stdout",
          "text": [
            "train rows: 25\n",
            "val rows: 3\n"
          ]
        }
      ]
    },
    {
      "cell_type": "code",
      "source": [
        "trainer.train()\n"
      ],
      "metadata": {
        "colab": {
          "base_uri": "https://localhost:8080/",
          "height": 303
        },
        "id": "sFQfgWKWH6y2",
        "outputId": "0db8b0c3-c493-44da-ed1b-f8e7497bd98b"
      },
      "execution_count": 37,
      "outputs": [
        {
          "output_type": "stream",
          "name": "stderr",
          "text": [
            "\u001b[34m\u001b[1mwandb\u001b[0m: \u001b[33mWARNING\u001b[0m The `run_name` is currently set to the same value as `TrainingArguments.output_dir`. If this was not intended, please specify a different run name by setting the `TrainingArguments.run_name` parameter.\n",
            "\u001b[34m\u001b[1mwandb\u001b[0m: Currently logged in as: \u001b[33mdavid-isinta\u001b[0m (\u001b[33mdavid-isinta-yale-university\u001b[0m) to \u001b[32mhttps://api.wandb.ai\u001b[0m. Use \u001b[1m`wandb login --relogin`\u001b[0m to force relogin\n"
          ]
        },
        {
          "output_type": "display_data",
          "data": {
            "text/plain": [
              "<IPython.core.display.HTML object>"
            ],
            "text/html": [
              "Tracking run with wandb version 0.19.10"
            ]
          },
          "metadata": {}
        },
        {
          "output_type": "display_data",
          "data": {
            "text/plain": [
              "<IPython.core.display.HTML object>"
            ],
            "text/html": [
              "Run data is saved locally in <code>/content/wandb/run-20250503_052800-m0wqgks9</code>"
            ]
          },
          "metadata": {}
        },
        {
          "output_type": "display_data",
          "data": {
            "text/plain": [
              "<IPython.core.display.HTML object>"
            ],
            "text/html": [
              "Syncing run <strong><a href='https://wandb.ai/david-isinta-yale-university/huggingface/runs/m0wqgks9' target=\"_blank\">/tmp/qlora_ckpt</a></strong> to <a href='https://wandb.ai/david-isinta-yale-university/huggingface' target=\"_blank\">Weights & Biases</a> (<a href='https://wandb.me/developer-guide' target=\"_blank\">docs</a>)<br>"
            ]
          },
          "metadata": {}
        },
        {
          "output_type": "display_data",
          "data": {
            "text/plain": [
              "<IPython.core.display.HTML object>"
            ],
            "text/html": [
              " View project at <a href='https://wandb.ai/david-isinta-yale-university/huggingface' target=\"_blank\">https://wandb.ai/david-isinta-yale-university/huggingface</a>"
            ]
          },
          "metadata": {}
        },
        {
          "output_type": "display_data",
          "data": {
            "text/plain": [
              "<IPython.core.display.HTML object>"
            ],
            "text/html": [
              " View run at <a href='https://wandb.ai/david-isinta-yale-university/huggingface/runs/m0wqgks9' target=\"_blank\">https://wandb.ai/david-isinta-yale-university/huggingface/runs/m0wqgks9</a>"
            ]
          },
          "metadata": {}
        },
        {
          "output_type": "stream",
          "name": "stdout",
          "text": [
            "{'eval_loss': 3.5592782497406006, 'eval_runtime': 0.2465, 'eval_samples_per_second': 12.17, 'eval_steps_per_second': 8.113, 'epoch': 0.6153846153846154}\n",
            "{'eval_loss': 3.3766772747039795, 'eval_runtime': 0.2398, 'eval_samples_per_second': 12.512, 'eval_steps_per_second': 8.341, 'epoch': 1.6153846153846154}\n",
            "{'eval_loss': 3.2438266277313232, 'eval_runtime': 0.2369, 'eval_samples_per_second': 12.662, 'eval_steps_per_second': 8.441, 'epoch': 2.6153846153846154}\n",
            "{'eval_loss': 3.1578166484832764, 'eval_runtime': 0.238, 'eval_samples_per_second': 12.604, 'eval_steps_per_second': 8.402, 'epoch': 3.6153846153846154}\n",
            "{'eval_loss': 3.115567922592163, 'eval_runtime': 0.2369, 'eval_samples_per_second': 12.666, 'eval_steps_per_second': 8.444, 'epoch': 4.615384615384615}\n",
            "{'train_runtime': 15.6633, 'train_samples_per_second': 7.98, 'train_steps_per_second': 0.319, 'train_loss': 5.729051208496093, 'epoch': 4.615384615384615}\n"
          ]
        },
        {
          "output_type": "execute_result",
          "data": {
            "text/plain": [
              "TrainOutput(global_step=5, training_loss=5.729051208496093, metrics={'train_runtime': 15.6633, 'train_samples_per_second': 7.98, 'train_steps_per_second': 0.319, 'train_loss': 5.729051208496093, 'epoch': 4.615384615384615})"
            ]
          },
          "metadata": {},
          "execution_count": 37
        }
      ]
    },
    {
      "cell_type": "markdown",
      "source": [
        "Part 3: Model Evaluation on Fact Patterns"
      ],
      "metadata": {
        "id": "xLnwaM6RXbsn"
      }
    },
    {
      "cell_type": "code",
      "source": [
        "yes_id = tok.encode(\" Dependent\",     add_special_tokens=False)[0]\n",
        "no_id  = tok.encode(\" Not dependent\", add_special_tokens=False)[0]\n",
        "\n",
        "def is_dependent(scenario: str, want_reason: bool = False, max_reason_tokens: int = 40):\n",
        "    \"\"\"\n",
        "    Returns 'dependent' / 'not dependent' (+ optional short explanation).\n",
        "    Echo suppression: classification first, then reason with 'no_repeat_ngram_size'.\n",
        "    \"\"\"\n",
        "    cls_prompt = f\"Scenario: {scenario}\\nAnswer:\"\n",
        "    cls_inputs = tok(cls_prompt, return_tensors=\"pt\").to(model.device)\n",
        "    with torch.no_grad():\n",
        "        logits = model(**cls_inputs).logits[0, -1]      # next‑token scores\n",
        "    verdict = \"dependent\" if logits[yes_id] > logits[no_id] else \"not dependent\"\n",
        "\n",
        "    if not want_reason:\n",
        "        return verdict\n",
        "\n",
        "    instr = (\n",
        "        \"Give one sentence beginning with 'Because' briefly naming the tests \"\n",
        "        \"that apply. Do NOT repeat the scenario.\"\n",
        "    )\n",
        "    reason_prompt = f\"{cls_prompt} {verdict.capitalize()} – {instr}\\n\"\n",
        "    ids = tok(reason_prompt, return_tensors=\"pt\").input_ids.to(model.device)\n",
        "    with torch.no_grad():\n",
        "        out = model.generate(\n",
        "            ids,\n",
        "            max_new_tokens=max_reason_tokens,\n",
        "            temperature=0.0,\n",
        "            do_sample=False,\n",
        "            no_repeat_ngram_size=5,\n",
        "            eos_token_id=tok.eos_token_id,\n",
        "            pad_token_id=tok.pad_token_id,\n",
        "        )\n",
        "    reason = tok.decode(out[0][ids.size(1):], skip_special_tokens=True).strip()\n",
        "\n",
        "    if scenario[:40].lower() in reason.lower():\n",
        "        reason = reason.replace(scenario, \"\").strip()\n",
        "\n",
        "    return verdict, reason\n"
      ],
      "metadata": {
        "id": "4_9QhGZ9Wwr-"
      },
      "execution_count": 38,
      "outputs": []
    },
    {
      "cell_type": "code",
      "source": [
        "samples = [\n",
        "    \"Abdi, 14, lives with his father all year and has no income. His father pays for all food, housing, and clothing.\",\n",
        "\n",
        "    \"Onesmus, 17, started a successful online business and earned $47 000 this year, covering all his own expenses while living at home.\",\n",
        "\n",
        "    \"Aunt Amy, 70, moved into her niece Zoe's home for the entire year. Amy's only income is $900 in taxable interest, and Zoe pays every other expense.\",\n",
        "\n",
        "    \"Uncle Pablo, 68, lives with nephew Max but receives a $24 000 taxable pension that covers most of his needs. Max contributes 20 % toward Pablo’s expenses.\",\n",
        "\n",
        "    \"Zemus, 13, was placed by a county agency with foster parents Sam and Riley for the full year. They provide all of Zemus’ support.\",\n",
        "\n",
        "    \"Leshonda, 19, lived on campus nine months as a full‑time student but returned to his parents’ home for breaks. He earned $3 500; parents covered all other costs.\",\n",
        "]\n",
        "\n",
        "for s in samples:\n",
        "    v, r = is_dependent(s, want_reason=True)\n",
        "    print(f\"\\nScenario: {s}\\n→ {v.upper()}\")\n"
      ],
      "metadata": {
        "colab": {
          "base_uri": "https://localhost:8080/"
        },
        "id": "ZRPN9EHFWzhf",
        "outputId": "6ca74ae2-236e-4a5f-cbd0-dd0c47348ea5"
      },
      "execution_count": 39,
      "outputs": [
        {
          "output_type": "stream",
          "name": "stdout",
          "text": [
            "\n",
            "Scenario: Abdi, 14, lives with his father all year and has no income. His father pays for all food, housing, and clothing.\n",
            "→ DEPENDENT\n",
            "\n",
            "Scenario: Onesmus, 17, started a successful online business and earned $47 000 this year, covering all his own expenses while living at home.\n",
            "→ NOT DEPENDENT\n",
            "\n",
            "Scenario: Aunt Amy, 70, moved into her niece Zoe's home for the entire year. Amy's only income is $900 in taxable interest, and Zoe pays every other expense.\n",
            "→ NOT DEPENDENT\n",
            "\n",
            "Scenario: Uncle Pablo, 68, lives with nephew Max but receives a $24 000 taxable pension that covers most of his needs. Max contributes 20 % toward Pablo’s expenses.\n",
            "→ NOT DEPENDENT\n",
            "\n",
            "Scenario: Zemus, 13, was placed by a county agency with foster parents Sam and Riley for the full year. They provide all of Zemus’ support.\n",
            "→ NOT DEPENDENT\n",
            "\n",
            "Scenario: Leshonda, 19, lived on campus nine months as a full‑time student but returned to his parents’ home for breaks. He earned $3 500; parents covered all other costs.\n",
            "→ DEPENDENT\n"
          ]
        }
      ]
    },
    {
      "cell_type": "markdown",
      "source": [
        "Running the fact Patterns Through SMT solver"
      ],
      "metadata": {
        "id": "btnFslEdeQRr"
      }
    },
    {
      "cell_type": "code",
      "source": [
        "pip install transformers torch z3-solver"
      ],
      "metadata": {
        "colab": {
          "base_uri": "https://localhost:8080/"
        },
        "id": "Zoqqiykte-kc",
        "outputId": "f82f3a69-b920-4700-d4e0-e27641c2a6c5"
      },
      "execution_count": 40,
      "outputs": [
        {
          "output_type": "stream",
          "name": "stdout",
          "text": [
            "Requirement already satisfied: transformers in /usr/local/lib/python3.11/dist-packages (4.51.3)\n",
            "Requirement already satisfied: torch in /usr/local/lib/python3.11/dist-packages (2.6.0+cu124)\n",
            "Requirement already satisfied: z3-solver in /usr/local/lib/python3.11/dist-packages (4.14.1.0)\n",
            "Requirement already satisfied: filelock in /usr/local/lib/python3.11/dist-packages (from transformers) (3.18.0)\n",
            "Requirement already satisfied: huggingface-hub<1.0,>=0.30.0 in /usr/local/lib/python3.11/dist-packages (from transformers) (0.30.2)\n",
            "Requirement already satisfied: numpy>=1.17 in /usr/local/lib/python3.11/dist-packages (from transformers) (2.0.2)\n",
            "Requirement already satisfied: packaging>=20.0 in /usr/local/lib/python3.11/dist-packages (from transformers) (24.2)\n",
            "Requirement already satisfied: pyyaml>=5.1 in /usr/local/lib/python3.11/dist-packages (from transformers) (6.0.2)\n",
            "Requirement already satisfied: regex!=2019.12.17 in /usr/local/lib/python3.11/dist-packages (from transformers) (2024.11.6)\n",
            "Requirement already satisfied: requests in /usr/local/lib/python3.11/dist-packages (from transformers) (2.32.3)\n",
            "Requirement already satisfied: tokenizers<0.22,>=0.21 in /usr/local/lib/python3.11/dist-packages (from transformers) (0.21.1)\n",
            "Requirement already satisfied: safetensors>=0.4.3 in /usr/local/lib/python3.11/dist-packages (from transformers) (0.5.3)\n",
            "Requirement already satisfied: tqdm>=4.27 in /usr/local/lib/python3.11/dist-packages (from transformers) (4.67.1)\n",
            "Requirement already satisfied: typing-extensions>=4.10.0 in /usr/local/lib/python3.11/dist-packages (from torch) (4.13.2)\n",
            "Requirement already satisfied: networkx in /usr/local/lib/python3.11/dist-packages (from torch) (3.4.2)\n",
            "Requirement already satisfied: jinja2 in /usr/local/lib/python3.11/dist-packages (from torch) (3.1.6)\n",
            "Requirement already satisfied: fsspec in /usr/local/lib/python3.11/dist-packages (from torch) (2025.3.0)\n",
            "Requirement already satisfied: nvidia-cuda-nvrtc-cu12==12.4.127 in /usr/local/lib/python3.11/dist-packages (from torch) (12.4.127)\n",
            "Requirement already satisfied: nvidia-cuda-runtime-cu12==12.4.127 in /usr/local/lib/python3.11/dist-packages (from torch) (12.4.127)\n",
            "Requirement already satisfied: nvidia-cuda-cupti-cu12==12.4.127 in /usr/local/lib/python3.11/dist-packages (from torch) (12.4.127)\n",
            "Requirement already satisfied: nvidia-cudnn-cu12==9.1.0.70 in /usr/local/lib/python3.11/dist-packages (from torch) (9.1.0.70)\n",
            "Requirement already satisfied: nvidia-cublas-cu12==12.4.5.8 in /usr/local/lib/python3.11/dist-packages (from torch) (12.4.5.8)\n",
            "Requirement already satisfied: nvidia-cufft-cu12==11.2.1.3 in /usr/local/lib/python3.11/dist-packages (from torch) (11.2.1.3)\n",
            "Requirement already satisfied: nvidia-curand-cu12==10.3.5.147 in /usr/local/lib/python3.11/dist-packages (from torch) (10.3.5.147)\n",
            "Requirement already satisfied: nvidia-cusolver-cu12==11.6.1.9 in /usr/local/lib/python3.11/dist-packages (from torch) (11.6.1.9)\n",
            "Requirement already satisfied: nvidia-cusparse-cu12==12.3.1.170 in /usr/local/lib/python3.11/dist-packages (from torch) (12.3.1.170)\n",
            "Requirement already satisfied: nvidia-cusparselt-cu12==0.6.2 in /usr/local/lib/python3.11/dist-packages (from torch) (0.6.2)\n",
            "Requirement already satisfied: nvidia-nccl-cu12==2.21.5 in /usr/local/lib/python3.11/dist-packages (from torch) (2.21.5)\n",
            "Requirement already satisfied: nvidia-nvtx-cu12==12.4.127 in /usr/local/lib/python3.11/dist-packages (from torch) (12.4.127)\n",
            "Requirement already satisfied: nvidia-nvjitlink-cu12==12.4.127 in /usr/local/lib/python3.11/dist-packages (from torch) (12.4.127)\n",
            "Requirement already satisfied: triton==3.2.0 in /usr/local/lib/python3.11/dist-packages (from torch) (3.2.0)\n",
            "Requirement already satisfied: sympy==1.13.1 in /usr/local/lib/python3.11/dist-packages (from torch) (1.13.1)\n",
            "Requirement already satisfied: mpmath<1.4,>=1.1.0 in /usr/local/lib/python3.11/dist-packages (from sympy==1.13.1->torch) (1.3.0)\n",
            "Requirement already satisfied: MarkupSafe>=2.0 in /usr/local/lib/python3.11/dist-packages (from jinja2->torch) (3.0.2)\n",
            "Requirement already satisfied: charset-normalizer<4,>=2 in /usr/local/lib/python3.11/dist-packages (from requests->transformers) (3.4.1)\n",
            "Requirement already satisfied: idna<4,>=2.5 in /usr/local/lib/python3.11/dist-packages (from requests->transformers) (3.10)\n",
            "Requirement already satisfied: urllib3<3,>=1.21.1 in /usr/local/lib/python3.11/dist-packages (from requests->transformers) (2.4.0)\n",
            "Requirement already satisfied: certifi>=2017.4.17 in /usr/local/lib/python3.11/dist-packages (from requests->transformers) (2025.4.26)\n"
          ]
        }
      ]
    },
    {
      "cell_type": "code",
      "source": [
        "!z3 scenario1.smt2\n"
      ],
      "metadata": {
        "colab": {
          "base_uri": "https://localhost:8080/"
        },
        "id": "09O2-9BHfUrF",
        "outputId": "a2d7c08a-b93a-4bcc-a642-e12772ada1c3"
      },
      "execution_count": 41,
      "outputs": [
        {
          "output_type": "stream",
          "name": "stdout",
          "text": [
            "sat\n"
          ]
        }
      ]
    },
    {
      "cell_type": "code",
      "source": [
        "!z3 scenario2.smt2\n"
      ],
      "metadata": {
        "colab": {
          "base_uri": "https://localhost:8080/"
        },
        "id": "nHJas0ygfayP",
        "outputId": "50492062-a23a-4835-9045-34e0302fe998"
      },
      "execution_count": 42,
      "outputs": [
        {
          "output_type": "stream",
          "name": "stdout",
          "text": [
            "unsat\n"
          ]
        }
      ]
    },
    {
      "cell_type": "code",
      "source": [
        "!z3 scenario3.smt2\n"
      ],
      "metadata": {
        "colab": {
          "base_uri": "https://localhost:8080/"
        },
        "id": "ZOpC5mnDflhx",
        "outputId": "3a4002cd-2350-4420-c92a-a3224c017644"
      },
      "execution_count": 43,
      "outputs": [
        {
          "output_type": "stream",
          "name": "stdout",
          "text": [
            "unsat\n"
          ]
        }
      ]
    },
    {
      "cell_type": "code",
      "source": [
        "!z3 scenario4.smt2"
      ],
      "metadata": {
        "colab": {
          "base_uri": "https://localhost:8080/"
        },
        "id": "IKtLSsfhfoVx",
        "outputId": "5d5cf1d7-fef0-4bfe-9635-c7d51998c136"
      },
      "execution_count": 44,
      "outputs": [
        {
          "output_type": "stream",
          "name": "stdout",
          "text": [
            "unsat\n"
          ]
        }
      ]
    },
    {
      "cell_type": "code",
      "source": [
        "!z3 scenario5.smt2"
      ],
      "metadata": {
        "colab": {
          "base_uri": "https://localhost:8080/"
        },
        "id": "rp9pZp61fs5Z",
        "outputId": "8f2923b3-d545-4835-e1e8-a1ea1e7d4b3b"
      },
      "execution_count": 45,
      "outputs": [
        {
          "output_type": "stream",
          "name": "stdout",
          "text": [
            "sat\n"
          ]
        }
      ]
    },
    {
      "cell_type": "code",
      "source": [
        "!z3 scenario6.smt2"
      ],
      "metadata": {
        "colab": {
          "base_uri": "https://localhost:8080/"
        },
        "id": "Kq9d1-oHfuSc",
        "outputId": "7e519e4c-15c4-4a80-cbe9-4a35bf062104"
      },
      "execution_count": 46,
      "outputs": [
        {
          "output_type": "stream",
          "name": "stdout",
          "text": [
            "sat\n"
          ]
        }
      ]
    },
    {
      "cell_type": "markdown",
      "source": [
        "Summary Table"
      ],
      "metadata": {
        "id": "xZ1LSom4jwEL"
      }
    },
    {
      "cell_type": "code",
      "source": [
        "import pandas as pd\n",
        "\n",
        "cols = [\"Fact Pattern\", \"Model Output\", \"SMT verdict\", \"Status\"]\n",
        "\n",
        "df = pd.DataFrame([{c: \"\" for c in cols} for _ in range(6)],\n",
        "                  columns=cols,\n",
        "                  index=range(1, 7))\n",
        "\n",
        "entries = [\n",
        "    (\"Scenario 1\",         \"yes\",     \"yes\",   \"correct ✅\"),\n",
        "    (\"Scenario 2\",           \"no\", \"no\",   \"correct ✅\"),\n",
        "    (\"Scenario 3\",  \"no\",     \"no\",   \"correct ✅\"),\n",
        "    (\"Scenario 4\",             \"yes\", \"no\",   \"wrong ❌\"),\n",
        "    (\"Scenario 5\", \"no\",     \"yes\",   \"wrong ❌\"),\n",
        "    (\"Scenario 6\",        \"yes\", \"yes\", \"correct ✅\"),\n",
        "]\n",
        "\n",
        "for i, (fp, model, smt, status) in enumerate(entries, start=1):\n",
        "    df.loc[i] = [fp, model, smt, status]\n",
        "\n",
        "display(df)\n"
      ],
      "metadata": {
        "colab": {
          "base_uri": "https://localhost:8080/",
          "height": 238
        },
        "id": "wyKjR4OKjvLU",
        "outputId": "504109f7-cbb7-4460-b0db-2d4c92709d4a"
      },
      "execution_count": 47,
      "outputs": [
        {
          "output_type": "display_data",
          "data": {
            "text/plain": [
              "  Fact Pattern Model Output SMT verdict     Status\n",
              "1   Scenario 1          yes         yes  correct ✅\n",
              "2   Scenario 2           no          no  correct ✅\n",
              "3   Scenario 3           no          no  correct ✅\n",
              "4   Scenario 4          yes          no    wrong ❌\n",
              "5   Scenario 5           no         yes    wrong ❌\n",
              "6   Scenario 6          yes         yes  correct ✅"
            ],
            "text/html": [
              "\n",
              "  <div id=\"df-90a5ad82-66fb-42de-82a4-d602906d0fd6\" class=\"colab-df-container\">\n",
              "    <div>\n",
              "<style scoped>\n",
              "    .dataframe tbody tr th:only-of-type {\n",
              "        vertical-align: middle;\n",
              "    }\n",
              "\n",
              "    .dataframe tbody tr th {\n",
              "        vertical-align: top;\n",
              "    }\n",
              "\n",
              "    .dataframe thead th {\n",
              "        text-align: right;\n",
              "    }\n",
              "</style>\n",
              "<table border=\"1\" class=\"dataframe\">\n",
              "  <thead>\n",
              "    <tr style=\"text-align: right;\">\n",
              "      <th></th>\n",
              "      <th>Fact Pattern</th>\n",
              "      <th>Model Output</th>\n",
              "      <th>SMT verdict</th>\n",
              "      <th>Status</th>\n",
              "    </tr>\n",
              "  </thead>\n",
              "  <tbody>\n",
              "    <tr>\n",
              "      <th>1</th>\n",
              "      <td>Scenario 1</td>\n",
              "      <td>yes</td>\n",
              "      <td>yes</td>\n",
              "      <td>correct ✅</td>\n",
              "    </tr>\n",
              "    <tr>\n",
              "      <th>2</th>\n",
              "      <td>Scenario 2</td>\n",
              "      <td>no</td>\n",
              "      <td>no</td>\n",
              "      <td>correct ✅</td>\n",
              "    </tr>\n",
              "    <tr>\n",
              "      <th>3</th>\n",
              "      <td>Scenario 3</td>\n",
              "      <td>no</td>\n",
              "      <td>no</td>\n",
              "      <td>correct ✅</td>\n",
              "    </tr>\n",
              "    <tr>\n",
              "      <th>4</th>\n",
              "      <td>Scenario 4</td>\n",
              "      <td>yes</td>\n",
              "      <td>no</td>\n",
              "      <td>wrong ❌</td>\n",
              "    </tr>\n",
              "    <tr>\n",
              "      <th>5</th>\n",
              "      <td>Scenario 5</td>\n",
              "      <td>no</td>\n",
              "      <td>yes</td>\n",
              "      <td>wrong ❌</td>\n",
              "    </tr>\n",
              "    <tr>\n",
              "      <th>6</th>\n",
              "      <td>Scenario 6</td>\n",
              "      <td>yes</td>\n",
              "      <td>yes</td>\n",
              "      <td>correct ✅</td>\n",
              "    </tr>\n",
              "  </tbody>\n",
              "</table>\n",
              "</div>\n",
              "    <div class=\"colab-df-buttons\">\n",
              "\n",
              "  <div class=\"colab-df-container\">\n",
              "    <button class=\"colab-df-convert\" onclick=\"convertToInteractive('df-90a5ad82-66fb-42de-82a4-d602906d0fd6')\"\n",
              "            title=\"Convert this dataframe to an interactive table.\"\n",
              "            style=\"display:none;\">\n",
              "\n",
              "  <svg xmlns=\"http://www.w3.org/2000/svg\" height=\"24px\" viewBox=\"0 -960 960 960\">\n",
              "    <path d=\"M120-120v-720h720v720H120Zm60-500h600v-160H180v160Zm220 220h160v-160H400v160Zm0 220h160v-160H400v160ZM180-400h160v-160H180v160Zm440 0h160v-160H620v160ZM180-180h160v-160H180v160Zm440 0h160v-160H620v160Z\"/>\n",
              "  </svg>\n",
              "    </button>\n",
              "\n",
              "  <style>\n",
              "    .colab-df-container {\n",
              "      display:flex;\n",
              "      gap: 12px;\n",
              "    }\n",
              "\n",
              "    .colab-df-convert {\n",
              "      background-color: #E8F0FE;\n",
              "      border: none;\n",
              "      border-radius: 50%;\n",
              "      cursor: pointer;\n",
              "      display: none;\n",
              "      fill: #1967D2;\n",
              "      height: 32px;\n",
              "      padding: 0 0 0 0;\n",
              "      width: 32px;\n",
              "    }\n",
              "\n",
              "    .colab-df-convert:hover {\n",
              "      background-color: #E2EBFA;\n",
              "      box-shadow: 0px 1px 2px rgba(60, 64, 67, 0.3), 0px 1px 3px 1px rgba(60, 64, 67, 0.15);\n",
              "      fill: #174EA6;\n",
              "    }\n",
              "\n",
              "    .colab-df-buttons div {\n",
              "      margin-bottom: 4px;\n",
              "    }\n",
              "\n",
              "    [theme=dark] .colab-df-convert {\n",
              "      background-color: #3B4455;\n",
              "      fill: #D2E3FC;\n",
              "    }\n",
              "\n",
              "    [theme=dark] .colab-df-convert:hover {\n",
              "      background-color: #434B5C;\n",
              "      box-shadow: 0px 1px 3px 1px rgba(0, 0, 0, 0.15);\n",
              "      filter: drop-shadow(0px 1px 2px rgba(0, 0, 0, 0.3));\n",
              "      fill: #FFFFFF;\n",
              "    }\n",
              "  </style>\n",
              "\n",
              "    <script>\n",
              "      const buttonEl =\n",
              "        document.querySelector('#df-90a5ad82-66fb-42de-82a4-d602906d0fd6 button.colab-df-convert');\n",
              "      buttonEl.style.display =\n",
              "        google.colab.kernel.accessAllowed ? 'block' : 'none';\n",
              "\n",
              "      async function convertToInteractive(key) {\n",
              "        const element = document.querySelector('#df-90a5ad82-66fb-42de-82a4-d602906d0fd6');\n",
              "        const dataTable =\n",
              "          await google.colab.kernel.invokeFunction('convertToInteractive',\n",
              "                                                    [key], {});\n",
              "        if (!dataTable) return;\n",
              "\n",
              "        const docLinkHtml = 'Like what you see? Visit the ' +\n",
              "          '<a target=\"_blank\" href=https://colab.research.google.com/notebooks/data_table.ipynb>data table notebook</a>'\n",
              "          + ' to learn more about interactive tables.';\n",
              "        element.innerHTML = '';\n",
              "        dataTable['output_type'] = 'display_data';\n",
              "        await google.colab.output.renderOutput(dataTable, element);\n",
              "        const docLink = document.createElement('div');\n",
              "        docLink.innerHTML = docLinkHtml;\n",
              "        element.appendChild(docLink);\n",
              "      }\n",
              "    </script>\n",
              "  </div>\n",
              "\n",
              "\n",
              "    <div id=\"df-f51ad024-f101-4ca9-a993-d550e1d8fa7b\">\n",
              "      <button class=\"colab-df-quickchart\" onclick=\"quickchart('df-f51ad024-f101-4ca9-a993-d550e1d8fa7b')\"\n",
              "                title=\"Suggest charts\"\n",
              "                style=\"display:none;\">\n",
              "\n",
              "<svg xmlns=\"http://www.w3.org/2000/svg\" height=\"24px\"viewBox=\"0 0 24 24\"\n",
              "     width=\"24px\">\n",
              "    <g>\n",
              "        <path d=\"M19 3H5c-1.1 0-2 .9-2 2v14c0 1.1.9 2 2 2h14c1.1 0 2-.9 2-2V5c0-1.1-.9-2-2-2zM9 17H7v-7h2v7zm4 0h-2V7h2v10zm4 0h-2v-4h2v4z\"/>\n",
              "    </g>\n",
              "</svg>\n",
              "      </button>\n",
              "\n",
              "<style>\n",
              "  .colab-df-quickchart {\n",
              "      --bg-color: #E8F0FE;\n",
              "      --fill-color: #1967D2;\n",
              "      --hover-bg-color: #E2EBFA;\n",
              "      --hover-fill-color: #174EA6;\n",
              "      --disabled-fill-color: #AAA;\n",
              "      --disabled-bg-color: #DDD;\n",
              "  }\n",
              "\n",
              "  [theme=dark] .colab-df-quickchart {\n",
              "      --bg-color: #3B4455;\n",
              "      --fill-color: #D2E3FC;\n",
              "      --hover-bg-color: #434B5C;\n",
              "      --hover-fill-color: #FFFFFF;\n",
              "      --disabled-bg-color: #3B4455;\n",
              "      --disabled-fill-color: #666;\n",
              "  }\n",
              "\n",
              "  .colab-df-quickchart {\n",
              "    background-color: var(--bg-color);\n",
              "    border: none;\n",
              "    border-radius: 50%;\n",
              "    cursor: pointer;\n",
              "    display: none;\n",
              "    fill: var(--fill-color);\n",
              "    height: 32px;\n",
              "    padding: 0;\n",
              "    width: 32px;\n",
              "  }\n",
              "\n",
              "  .colab-df-quickchart:hover {\n",
              "    background-color: var(--hover-bg-color);\n",
              "    box-shadow: 0 1px 2px rgba(60, 64, 67, 0.3), 0 1px 3px 1px rgba(60, 64, 67, 0.15);\n",
              "    fill: var(--button-hover-fill-color);\n",
              "  }\n",
              "\n",
              "  .colab-df-quickchart-complete:disabled,\n",
              "  .colab-df-quickchart-complete:disabled:hover {\n",
              "    background-color: var(--disabled-bg-color);\n",
              "    fill: var(--disabled-fill-color);\n",
              "    box-shadow: none;\n",
              "  }\n",
              "\n",
              "  .colab-df-spinner {\n",
              "    border: 2px solid var(--fill-color);\n",
              "    border-color: transparent;\n",
              "    border-bottom-color: var(--fill-color);\n",
              "    animation:\n",
              "      spin 1s steps(1) infinite;\n",
              "  }\n",
              "\n",
              "  @keyframes spin {\n",
              "    0% {\n",
              "      border-color: transparent;\n",
              "      border-bottom-color: var(--fill-color);\n",
              "      border-left-color: var(--fill-color);\n",
              "    }\n",
              "    20% {\n",
              "      border-color: transparent;\n",
              "      border-left-color: var(--fill-color);\n",
              "      border-top-color: var(--fill-color);\n",
              "    }\n",
              "    30% {\n",
              "      border-color: transparent;\n",
              "      border-left-color: var(--fill-color);\n",
              "      border-top-color: var(--fill-color);\n",
              "      border-right-color: var(--fill-color);\n",
              "    }\n",
              "    40% {\n",
              "      border-color: transparent;\n",
              "      border-right-color: var(--fill-color);\n",
              "      border-top-color: var(--fill-color);\n",
              "    }\n",
              "    60% {\n",
              "      border-color: transparent;\n",
              "      border-right-color: var(--fill-color);\n",
              "    }\n",
              "    80% {\n",
              "      border-color: transparent;\n",
              "      border-right-color: var(--fill-color);\n",
              "      border-bottom-color: var(--fill-color);\n",
              "    }\n",
              "    90% {\n",
              "      border-color: transparent;\n",
              "      border-bottom-color: var(--fill-color);\n",
              "    }\n",
              "  }\n",
              "</style>\n",
              "\n",
              "      <script>\n",
              "        async function quickchart(key) {\n",
              "          const quickchartButtonEl =\n",
              "            document.querySelector('#' + key + ' button');\n",
              "          quickchartButtonEl.disabled = true;  // To prevent multiple clicks.\n",
              "          quickchartButtonEl.classList.add('colab-df-spinner');\n",
              "          try {\n",
              "            const charts = await google.colab.kernel.invokeFunction(\n",
              "                'suggestCharts', [key], {});\n",
              "          } catch (error) {\n",
              "            console.error('Error during call to suggestCharts:', error);\n",
              "          }\n",
              "          quickchartButtonEl.classList.remove('colab-df-spinner');\n",
              "          quickchartButtonEl.classList.add('colab-df-quickchart-complete');\n",
              "        }\n",
              "        (() => {\n",
              "          let quickchartButtonEl =\n",
              "            document.querySelector('#df-f51ad024-f101-4ca9-a993-d550e1d8fa7b button');\n",
              "          quickchartButtonEl.style.display =\n",
              "            google.colab.kernel.accessAllowed ? 'block' : 'none';\n",
              "        })();\n",
              "      </script>\n",
              "    </div>\n",
              "\n",
              "  <div id=\"id_eb7ec93d-d28f-40af-9b40-8bde2a375871\">\n",
              "    <style>\n",
              "      .colab-df-generate {\n",
              "        background-color: #E8F0FE;\n",
              "        border: none;\n",
              "        border-radius: 50%;\n",
              "        cursor: pointer;\n",
              "        display: none;\n",
              "        fill: #1967D2;\n",
              "        height: 32px;\n",
              "        padding: 0 0 0 0;\n",
              "        width: 32px;\n",
              "      }\n",
              "\n",
              "      .colab-df-generate:hover {\n",
              "        background-color: #E2EBFA;\n",
              "        box-shadow: 0px 1px 2px rgba(60, 64, 67, 0.3), 0px 1px 3px 1px rgba(60, 64, 67, 0.15);\n",
              "        fill: #174EA6;\n",
              "      }\n",
              "\n",
              "      [theme=dark] .colab-df-generate {\n",
              "        background-color: #3B4455;\n",
              "        fill: #D2E3FC;\n",
              "      }\n",
              "\n",
              "      [theme=dark] .colab-df-generate:hover {\n",
              "        background-color: #434B5C;\n",
              "        box-shadow: 0px 1px 3px 1px rgba(0, 0, 0, 0.15);\n",
              "        filter: drop-shadow(0px 1px 2px rgba(0, 0, 0, 0.3));\n",
              "        fill: #FFFFFF;\n",
              "      }\n",
              "    </style>\n",
              "    <button class=\"colab-df-generate\" onclick=\"generateWithVariable('df')\"\n",
              "            title=\"Generate code using this dataframe.\"\n",
              "            style=\"display:none;\">\n",
              "\n",
              "  <svg xmlns=\"http://www.w3.org/2000/svg\" height=\"24px\"viewBox=\"0 0 24 24\"\n",
              "       width=\"24px\">\n",
              "    <path d=\"M7,19H8.4L18.45,9,17,7.55,7,17.6ZM5,21V16.75L18.45,3.32a2,2,0,0,1,2.83,0l1.4,1.43a1.91,1.91,0,0,1,.58,1.4,1.91,1.91,0,0,1-.58,1.4L9.25,21ZM18.45,9,17,7.55Zm-12,3A5.31,5.31,0,0,0,4.9,8.1,5.31,5.31,0,0,0,1,6.5,5.31,5.31,0,0,0,4.9,4.9,5.31,5.31,0,0,0,6.5,1,5.31,5.31,0,0,0,8.1,4.9,5.31,5.31,0,0,0,12,6.5,5.46,5.46,0,0,0,6.5,12Z\"/>\n",
              "  </svg>\n",
              "    </button>\n",
              "    <script>\n",
              "      (() => {\n",
              "      const buttonEl =\n",
              "        document.querySelector('#id_eb7ec93d-d28f-40af-9b40-8bde2a375871 button.colab-df-generate');\n",
              "      buttonEl.style.display =\n",
              "        google.colab.kernel.accessAllowed ? 'block' : 'none';\n",
              "\n",
              "      buttonEl.onclick = () => {\n",
              "        google.colab.notebook.generateWithVariable('df');\n",
              "      }\n",
              "      })();\n",
              "    </script>\n",
              "  </div>\n",
              "\n",
              "    </div>\n",
              "  </div>\n"
            ],
            "application/vnd.google.colaboratory.intrinsic+json": {
              "type": "dataframe",
              "variable_name": "df",
              "summary": "{\n  \"name\": \"df\",\n  \"rows\": 6,\n  \"fields\": [\n    {\n      \"column\": \"Fact Pattern\",\n      \"properties\": {\n        \"dtype\": \"string\",\n        \"num_unique_values\": 6,\n        \"samples\": [\n          \"Scenario 1\",\n          \"Scenario 2\",\n          \"Scenario 6\"\n        ],\n        \"semantic_type\": \"\",\n        \"description\": \"\"\n      }\n    },\n    {\n      \"column\": \"Model Output\",\n      \"properties\": {\n        \"dtype\": \"category\",\n        \"num_unique_values\": 2,\n        \"samples\": [\n          \"no\",\n          \"yes\"\n        ],\n        \"semantic_type\": \"\",\n        \"description\": \"\"\n      }\n    },\n    {\n      \"column\": \"SMT verdict\",\n      \"properties\": {\n        \"dtype\": \"category\",\n        \"num_unique_values\": 2,\n        \"samples\": [\n          \"no\",\n          \"yes\"\n        ],\n        \"semantic_type\": \"\",\n        \"description\": \"\"\n      }\n    },\n    {\n      \"column\": \"Status\",\n      \"properties\": {\n        \"dtype\": \"category\",\n        \"num_unique_values\": 2,\n        \"samples\": [\n          \"wrong \\u274c\",\n          \"correct \\u2705\"\n        ],\n        \"semantic_type\": \"\",\n        \"description\": \"\"\n      }\n    }\n  ]\n}"
            }
          },
          "metadata": {}
        }
      ]
    },
    {
      "cell_type": "markdown",
      "source": [
        "# Project Summary\n",
        "\n",
        "## Data Collection Approach\n",
        "\n",
        "For data collection, I initially adopted a prompt-response format. Each prompt described a specific situation, and the corresponding response was a simple **Yes** or **No** indicating whether the individual was considered a dependent. However, this binary format made it difficult for the model to learn complex patterns effectively.\n",
        "\n",
        "To address this, I transitioned to a format where the response included a **claim about dependency status along with an explanation**. This richer data format significantly improved the model's ability to grasp nuanced scenarios.\n",
        "\n",
        "I created a dataset with **28 carefully constructed examples** to help the model understand various dependency patterns.\n",
        "\n",
        "## Model Training\n",
        "\n",
        "Given the relatively small size of the dataset, only **5 training epochs** were necessary. Training beyond 5 epochs led to a decline in model performance, likely due to overfitting.\n",
        "\n",
        "## Evaluation Results\n",
        "\n",
        "The model was evaluated on 6 test cases and **correctly classified 4 out of 6**. The two misclassifications appeared to stem from **nuanced scenarios** that likely required more diverse training data for accurate interpretation.\n",
        "\n",
        "Overall, the model demonstrated promising results and the revised response format played a key role in improving learning.\n"
      ],
      "metadata": {
        "id": "xDQk3cKLn4KQ"
      }
    }
  ]
}